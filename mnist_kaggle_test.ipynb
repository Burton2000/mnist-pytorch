{
 "cells": [
  {
   "cell_type": "markdown",
   "metadata": {},
   "source": [
    "### References\n",
    "http://pytorch.org/tutorials/beginner/blitz/cifar10_tutorial.html#sphx-glr-beginner-blitz-cifar10-tutorial-py)"
   ]
  },
  {
   "cell_type": "code",
   "execution_count": 1,
   "metadata": {
    "collapsed": true
   },
   "outputs": [],
   "source": [
    "import torch\n",
    "import torch.nn as nn\n",
    "from torch.nn import functional as F\n",
    "from torch.autograd import Variable\n",
    "from torch import optim\n",
    "from torch.utils.data import Dataset, DataLoader\n",
    "from torchvision import transforms, utils\n",
    "\n",
    "import numpy as np\n",
    "import pandas as pd\n",
    "import matplotlib.pyplot as plt"
   ]
  },
  {
   "cell_type": "markdown",
   "metadata": {},
   "source": [
    "### Kaggle gives us mnist train/test data in csv files. First column of train is the label and the other 784 columns are the pixel values of the 28x28x1 images. We use pandas to load the datasets."
   ]
  },
  {
   "cell_type": "code",
   "execution_count": 2,
   "metadata": {},
   "outputs": [],
   "source": [
    "# Read in the train and test data.\n",
    "train_data = pd.read_csv('./mnist_pytorch/train.csv')\n",
    "test_data = pd.read_csv('./mnist_pytorch/test.csv')\n",
    "#train_data.head(3)  # Sanity check display the first 3 elements of training."
   ]
  },
  {
   "cell_type": "code",
   "execution_count": 3,
   "metadata": {
    "collapsed": true
   },
   "outputs": [],
   "source": [
    "# Seperate the labels from the input data.\n",
    "train_y = train_data.values[:,0]\n",
    "train_x = train_data.values[:,1:].astype(np.float32)\n",
    "test_x = test_data.values.astype(np.float32)"
   ]
  },
  {
   "cell_type": "code",
   "execution_count": 4,
   "metadata": {
    "collapsed": true
   },
   "outputs": [],
   "source": [
    "# Calculate how much of our training data is for train and validation.\n",
    "VALIDATION_PERCENT = 0\n",
    "num_train = len(train_y)\n",
    "num_val = int(num_train*VALIDATION_PERCENT)"
   ]
  },
  {
   "cell_type": "code",
   "execution_count": 5,
   "metadata": {
    "collapsed": true
   },
   "outputs": [],
   "source": [
    "# Reshape data back to images, transpose to N,C,H,W format for pytorch. \n",
    "\n",
    "train_x = train_x.reshape([-1, 28, 28, 1]).transpose((0,3,1,2))\n",
    "test_x = test_x.reshape([-1, 28, 28, 1]).transpose((0,3,1,2))\n",
    "\n",
    "# Split for train/val.\n",
    "val_x = train_x[0:num_val]\n",
    "val_y = train_y[0:num_val]\n",
    "train_x = train_x[num_val:]\n",
    "train_y = train_y[num_val:]"
   ]
  },
  {
   "cell_type": "code",
   "execution_count": 6,
   "metadata": {},
   "outputs": [
    {
     "data": {
      "image/png": "[encoded data removed]",
      "text/plain": [
       "<matplotlib.figure.Figure at 0x1e5460a6390>"
      ]
     },
     "metadata": {},
     "output_type": "display_data"
    },
    {
     "data": {
      "text/plain": [
       "1"
      ]
     },
     "execution_count": 6,
     "metadata": {},
     "output_type": "execute_result"
    }
   ],
   "source": [
    "# Sanity check to see an example and print its label.\n",
    "example_im = train_x[0,0,:,:]\n",
    "plt.imshow(example_im)\n",
    "plt.show()\n",
    "train_y[0]"
   ]
  },
  {
   "cell_type": "markdown",
   "metadata": {},
   "source": [
    "### Create a pytorch dataset wrapper by creating a class that inherits from Dataset. Will be used to store our datasets so we can use the pytorch DataLoader "
   ]
  },
  {
   "cell_type": "code",
   "execution_count": 7,
   "metadata": {},
   "outputs": [],
   "source": [
    "class MnistDataset(Dataset):\n",
    "    \n",
    "    def __init__(self, x, y=None):\n",
    "        self.data = x\n",
    "        self.labels = y\n",
    "        \n",
    "    def __len__(self):\n",
    "        return self.data.shape[0]\n",
    "    \n",
    "    def __getitem__(self, idx):\n",
    "        if self.labels is not None:\n",
    "            return self.data[idx], self.labels[idx]\n",
    "        else:\n",
    "            return self.data[idx]"
   ]
  },
  {
   "cell_type": "code",
   "execution_count": 8,
   "metadata": {},
   "outputs": [],
   "source": [
    "train_dataset = MnistDataset(train_x, train_y)\n",
    "train_dataloader = DataLoader(train_dataset, batch_size=200, shuffle=True)\n",
    "\n",
    "val_dataset = MnistDataset(val_x, val_y)\n",
    "val_dataloader = DataLoader(val_dataset, batch_size=200, shuffle=False)"
   ]
  },
  {
   "cell_type": "markdown",
   "metadata": {},
   "source": [
    "### Define our CNN model for classifying our digits data. Define it as a class inheriting from nn.Module"
   ]
  },
  {
   "cell_type": "code",
   "execution_count": 13,
   "metadata": {
    "collapsed": true
   },
   "outputs": [],
   "source": [
    "class MnistCNN(nn.Module):\n",
    "    \n",
    "    def __init__(self):\n",
    "        super(MnistCNN, self).__init__()\n",
    "        \n",
    "        self.conv1 = nn.Conv2d(in_channels=1, out_channels=32, kernel_size=5, stride=1, padding=2)\n",
    "        self.max2x2 = nn.MaxPool2d(kernel_size=2)\n",
    "        self.relu = nn.ReLU()\n",
    "        self.conv2 = nn.Conv2d(in_channels=32, out_channels= 32, kernel_size=5, stride=1, padding=2)\n",
    "        self.fc1 = nn.Linear(in_features=7*7*32, out_features=120)\n",
    "        self.fc2 = nn.Linear(in_features=120, out_features=84)\n",
    "        self.out = nn.Linear(in_features=84, out_features=10)\n",
    "        \n",
    "    def forward(self, x):\n",
    "        \n",
    "        act1 = self.relu(self.conv1(x))\n",
    "        act2 = self.max2x2(act1)\n",
    "        act3 = self.relu(self.conv2(act2))\n",
    "        act4 = self.max2x2(act3)\n",
    "        flatten = act4.view(-1, 7*7*32)\n",
    "        act5 = self.relu(self.fc1(flatten))\n",
    "        act6 = self.relu(self.fc2(act5))\n",
    "        out = self.out(act6)\n",
    "        \n",
    "        return out"
   ]
  },
  {
   "cell_type": "code",
   "execution_count": 14,
   "metadata": {
    "collapsed": true
   },
   "outputs": [],
   "source": [
    "def train_model(model, dataloader, loss_func, optimizer, epochs = 10):\n",
    "    \n",
    "    # Switch to train mode (for things like Batch norm and dropout).\n",
    "    model.train()\n",
    "    \n",
    "    loss_history = []\n",
    "    \n",
    "    for epoch in range(epochs):\n",
    "        for i_batch, (x_batch, y_batch) in enumerate(dataloader):\n",
    "\n",
    "            # Convert our batch to Variable \n",
    "            x_batch, y_batch = Variable(x_batch), Variable(y_batch)\n",
    "            \n",
    "            # Compute output and loss.\n",
    "            output = model(x_batch)\n",
    "            loss = loss_func(output, y_batch)\n",
    "        \n",
    "            # Zero our gradients/backprop and perform and SGD step.\n",
    "            optimizer.zero_grad()\n",
    "            loss.backward()\n",
    "            optimizer.step()\n",
    "            \n",
    "        print(loss)           \n",
    "        loss_history.append(loss)\n",
    "        \n",
    "    return loss_history"
   ]
  },
  {
   "cell_type": "code",
   "execution_count": 15,
   "metadata": {
    "collapsed": true
   },
   "outputs": [],
   "source": [
    "# Define optimizer and loss function.\n",
    "model = MnistCNN()\n",
    "optimizer = optim.Adam(model.parameters(), lr=0.001)\n",
    "loss_func = nn.CrossEntropyLoss()"
   ]
  },
  {
   "cell_type": "code",
   "execution_count": 16,
   "metadata": {},
   "outputs": [
    {
     "name": "stdout",
     "output_type": "stream",
     "text": [
      "Variable containing:\n",
      " 0.1432\n",
      "[torch.FloatTensor of size 1]\n",
      "\n",
      "Variable containing:\n",
      "1.00000e-02 *\n",
      "  8.2731\n",
      "[torch.FloatTensor of size 1]\n",
      "\n",
      "Variable containing:\n",
      "1.00000e-02 *\n",
      "  2.7176\n",
      "[torch.FloatTensor of size 1]\n",
      "\n",
      "Variable containing:\n",
      "1.00000e-03 *\n",
      "  6.0942\n",
      "[torch.FloatTensor of size 1]\n",
      "\n",
      "Variable containing:\n",
      "1.00000e-02 *\n",
      "  1.4390\n",
      "[torch.FloatTensor of size 1]\n",
      "\n"
     ]
    },
    {
     "data": {
      "text/plain": [
       "[Variable containing:\n",
       "  0.1432\n",
       " [torch.FloatTensor of size 1], Variable containing:\n",
       " 1.00000e-02 *\n",
       "   8.2731\n",
       " [torch.FloatTensor of size 1], Variable containing:\n",
       " 1.00000e-02 *\n",
       "   2.7176\n",
       " [torch.FloatTensor of size 1], Variable containing:\n",
       " 1.00000e-03 *\n",
       "   6.0942\n",
       " [torch.FloatTensor of size 1], Variable containing:\n",
       " 1.00000e-02 *\n",
       "   1.4390\n",
       " [torch.FloatTensor of size 1]]"
      ]
     },
     "execution_count": 16,
     "metadata": {},
     "output_type": "execute_result"
    }
   ],
   "source": [
    "# Train our model.\n",
    "train_model(model, train_dataloader, loss_func, optimizer, epochs = 5)"
   ]
  },
  {
   "cell_type": "code",
   "execution_count": null,
   "metadata": {
    "collapsed": true
   },
   "outputs": [],
   "source": [
    "def test_model(model, dataloader):\n",
    "    model.eval()\n",
    "    num_incorrect = 0\n",
    "    for i_batch, (x_batch, y_batch) in enumerate(dataloader):\n",
    "        \n",
    "        x_batch, y_batch = Variable(x_batch), Variable(y_batch)\n",
    "                \n",
    "        output = model(x_batch)\n",
    "\n",
    "        _, output = torch.max(output, dim = 1 )\n",
    "        \n",
    "        num_incorrect += torch.sum(output == y_batch)\n",
    "\n",
    "    return num_incorrect"
   ]
  },
  {
   "cell_type": "code",
   "execution_count": null,
   "metadata": {
    "collapsed": true
   },
   "outputs": [],
   "source": [
    "num_incorrect = test_model(model, val_dataloader)"
   ]
  },
  {
   "cell_type": "code",
   "execution_count": null,
   "metadata": {
    "collapsed": true
   },
   "outputs": [],
   "source": [
    "def calc_accuracy(total_incorrect, total):\n",
    "    accuracy = (total - total_incorrect) / total\n",
    "    return accuracy"
   ]
  },
  {
   "cell_type": "code",
   "execution_count": null,
   "metadata": {
    "collapsed": true
   },
   "outputs": [],
   "source": [
    "if VALIDATION_PERCENT > 0:\n",
    "    accuracy = calc_accuracy(num_incorrect.data.numpy(), len(val_dataset))\n",
    "    print(accuracy)"
   ]
  },
  {
   "cell_type": "markdown",
   "metadata": {},
   "source": [
    "#### Run our test set through to predict labels then save to csv for kaggle"
   ]
  },
  {
   "cell_type": "code",
   "execution_count": null,
   "metadata": {
    "collapsed": true
   },
   "outputs": [],
   "source": [
    "test_x = torch.from_numpy(test_x)\n",
    "test_labels = []\n",
    "for i in range(len(test_x)):\n",
    "    \n",
    "    test_batch = Variable(test_x[i].unsqueeze_(0))\n",
    "    \n",
    "    output = model(test_batch)\n",
    "    _, output = torch.max(output, dim = 1)\n",
    "    \n",
    "    test_labels.append(int(output.data.numpy()))\n",
    "\n",
    "np.savetxt(\"foo.csv\", test_labels, delimiter=\",\")"
   ]
  }
 ],
 "metadata": {
  "kernelspec": {
   "display_name": "Python 3",
   "language": "python",
   "name": "python3"
  },
  "language_info": {
   "codemirror_mode": {
    "name": "ipython",
    "version": 3
   },
   "file_extension": ".py",
   "mimetype": "text/x-python",
   "name": "python",
   "nbconvert_exporter": "python",
   "pygments_lexer": "ipython3",
   "version": "3.6.1"
  }
 },
 "nbformat": 4,
 "nbformat_minor": 2
}
